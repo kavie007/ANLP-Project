{
 "cells": [
  {
   "cell_type": "code",
   "execution_count": 8,
   "metadata": {},
   "outputs": [
    {
     "name": "stdout",
     "output_type": "stream",
     "text": [
      "Cleaned CSV saved as 'stackoverflow_nlp_posts_with_answers.csv'\n"
     ]
    }
   ],
   "source": [
    "import json\n",
    "import csv\n",
    "import re\n",
    "from html import unescape\n",
    "\n",
    "# Function to remove HTML tags\n",
    "def clean_html(raw_html):\n",
    "    text = re.sub(r'<[^>]+>', '', raw_html)  \n",
    "    return unescape(text.strip())  \n",
    "\n",
    "# Load the combined JSON dataset\n",
    "with open('stackoverflow_nlp_combined_20000.json', 'r', encoding='utf-8') as f:\n",
    "    data = json.load(f)\n",
    "\n",
    "\n",
    "fields = [\n",
    "    'question_id',\n",
    "    'title',\n",
    "    'body',\n",
    "    'tags',\n",
    "    'accepted_answer_id',\n",
    "    'accepted_answer_body',\n",
    "    'score'\n",
    "]\n",
    "\n",
    "\n",
    "with open('stackoverflow_nlp_posts_with_answers.csv', 'w', encoding='utf-8', newline='') as f:\n",
    "    writer = csv.DictWriter(f, fieldnames=fields, quoting=csv.QUOTE_ALL)\n",
    "    writer.writeheader()\n",
    "    for row in data:\n",
    "        writer.writerow({\n",
    "            'question_id': row['question_id'],\n",
    "            'title': clean_html(row['title']),\n",
    "            'body': clean_html(row['body']),\n",
    "            'tags': ', '.join(row['tags']),\n",
    "            'accepted_answer_id': row['accepted_answer_id'],\n",
    "            'accepted_answer_body': clean_html(row['accepted_answer_body']),\n",
    "            'score': row['score']\n",
    "        })\n",
    "\n",
    "print(\"Cleaned CSV saved as 'stackoverflow_nlp_posts_with_answers.csv'\")\n"
   ]
  },
  {
   "cell_type": "code",
   "execution_count": null,
   "metadata": {},
   "outputs": [],
   "source": []
  }
 ],
 "metadata": {
  "kernelspec": {
   "display_name": "Python 3",
   "language": "python",
   "name": "python3"
  },
  "language_info": {
   "codemirror_mode": {
    "name": "ipython",
    "version": 3
   },
   "file_extension": ".py",
   "mimetype": "text/x-python",
   "name": "python",
   "nbconvert_exporter": "python",
   "pygments_lexer": "ipython3",
   "version": "3.11.4"
  },
  "orig_nbformat": 4
 },
 "nbformat": 4,
 "nbformat_minor": 2
}
